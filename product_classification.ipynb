{
  "nbformat": 4,
  "nbformat_minor": 0,
  "metadata": {
    "colab": {
      "name": "Untitled4.ipynb",
      "provenance": [],
      "machine_shape": "hm",
      "authorship_tag": "ABX9TyM2pbkg5MK36X+1V36G6Hm+",
      "include_colab_link": true
    },
    "kernelspec": {
      "name": "python3",
      "display_name": "Python 3"
    }
  },
  "cells": [
    {
      "cell_type": "markdown",
      "metadata": {
        "id": "view-in-github",
        "colab_type": "text"
      },
      "source": [
        "<a href=\"https://colab.research.google.com/github/gizattos/desafio_dotz/blob/master/product_classification.ipynb\" target=\"_parent\"><img src=\"https://colab.research.google.com/assets/colab-badge.svg\" alt=\"Open In Colab\"/></a>"
      ]
    },
    {
      "cell_type": "markdown",
      "metadata": {
        "id": "cwQyHJhnOb4q",
        "colab_type": "text"
      },
      "source": [
        "hackaton dotz"
      ]
    },
    {
      "cell_type": "code",
      "metadata": {
        "id": "m7n9fKSfXuUX",
        "colab_type": "code",
        "colab": {}
      },
      "source": [
        "## bibliotecas \n",
        "import pandas as pd\n",
        "import warnings\n",
        "import gdown as gd\n",
        "import sklearn\n",
        "import numpy as np\n",
        "from sklearn import tree\n",
        "from sklearn.feature_extraction.text import CountVectorizer\n",
        "from sklearn.feature_extraction.text import TfidfTransformer\n",
        "from sklearn.naive_bayes import MultinomialNB\n",
        "from sklearn.pipeline import Pipeline\n",
        "warnings.filterwarnings('ignore')"
      ],
      "execution_count": 0,
      "outputs": []
    },
    {
      "cell_type": "code",
      "metadata": {
        "id": "XUYM0eyROfpR",
        "colab_type": "code",
        "colab": {
          "base_uri": "https://localhost:8080/",
          "height": 158
        },
        "outputId": "4128fa69-ba88-4a38-90fd-85ca20d70153"
      },
      "source": [
        "## baixando arquivos\n",
        "\n",
        "def get_data(url,output):\n",
        "  gd.download(url, output, quiet=False) \n",
        "\n",
        "get_data('https://drive.google.com/uc?id=1bRGQ0tYD0kaHoab3oYNv9WD80_4l7jA8','base_treino.csv')\n",
        "get_data('https://drive.google.com/uc?id=1nFDBPQJflTODSc7dUsV_UbeSJc20dA8M','base_teste.csv')\n",
        "\n",
        "df_treino = pd.read_csv('base_treino.csv',sep=',',encoding='utf-8')\n",
        "df_teste =  pd.read_csv('base_teste.csv',sep=',',encoding='utf-8')"
      ],
      "execution_count": 51,
      "outputs": [
        {
          "output_type": "stream",
          "text": [
            "Downloading...\n",
            "From: https://drive.google.com/uc?id=1bRGQ0tYD0kaHoab3oYNv9WD80_4l7jA8\n",
            "To: /content/base_treino.csv\n",
            "100%|██████████| 1.70M/1.70M [00:00<00:00, 122MB/s]\n",
            "Downloading...\n",
            "From: https://drive.google.com/uc?id=1nFDBPQJflTODSc7dUsV_UbeSJc20dA8M\n",
            "To: /content/base_teste.csv\n",
            "100%|██████████| 383k/383k [00:00<00:00, 93.7MB/s]\n"
          ],
          "name": "stderr"
        }
      ]
    },
    {
      "cell_type": "code",
      "metadata": {
        "id": "jkNntXKOW3SO",
        "colab_type": "code",
        "colab": {
          "base_uri": "https://localhost:8080/",
          "height": 197
        },
        "outputId": "d44c9195-8d9c-4c3b-d42f-77f6c9a5b04f"
      },
      "source": [
        "## visualizando treino\n",
        "df_treino.head()"
      ],
      "execution_count": 52,
      "outputs": [
        {
          "output_type": "execute_result",
          "data": {
            "text/html": [
              "<div>\n",
              "<style scoped>\n",
              "    .dataframe tbody tr th:only-of-type {\n",
              "        vertical-align: middle;\n",
              "    }\n",
              "\n",
              "    .dataframe tbody tr th {\n",
              "        vertical-align: top;\n",
              "    }\n",
              "\n",
              "    .dataframe thead th {\n",
              "        text-align: right;\n",
              "    }\n",
              "</style>\n",
              "<table border=\"1\" class=\"dataframe\">\n",
              "  <thead>\n",
              "    <tr style=\"text-align: right;\">\n",
              "      <th></th>\n",
              "      <th>DESCRIÇÃO PARCEIRO</th>\n",
              "      <th>SUB-CATEGORIA</th>\n",
              "      <th>CATEGORIA</th>\n",
              "      <th>DEPARTAMENTO</th>\n",
              "    </tr>\n",
              "  </thead>\n",
              "  <tbody>\n",
              "    <tr>\n",
              "      <th>0</th>\n",
              "      <td>PASTA INT VITAPOWER 1,005KG AMEND/SHOT</td>\n",
              "      <td>TRADICIONAL</td>\n",
              "      <td>CREME DE AMENDOIM</td>\n",
              "      <td>MERCEARIA DOCE</td>\n",
              "    </tr>\n",
              "    <tr>\n",
              "      <th>1</th>\n",
              "      <td>ESPONJA BETTANIN BRILHUS C/1</td>\n",
              "      <td>MULTIUSO</td>\n",
              "      <td>ESPONJA SINTÉTICA</td>\n",
              "      <td>CUIDADOS COM A COZINHA</td>\n",
              "    </tr>\n",
              "    <tr>\n",
              "      <th>2</th>\n",
              "      <td>AGUA MIN SCHIN S/GAS 500ML</td>\n",
              "      <td>SEM GÁS</td>\n",
              "      <td>ÁGUA MINERAL</td>\n",
              "      <td>BEBIDAS NÃO ALCOÓLICAS</td>\n",
              "    </tr>\n",
              "    <tr>\n",
              "      <th>3</th>\n",
              "      <td>FITA DUPLA FACE C/SUPORTE SCOTCH</td>\n",
              "      <td>FITA ADESIVA</td>\n",
              "      <td>PAPELARIA</td>\n",
              "      <td>PAPELARIA</td>\n",
              "    </tr>\n",
              "    <tr>\n",
              "      <th>4</th>\n",
              "      <td>MASSA PIZZA ROMANHA OREGANO PCT 160G</td>\n",
              "      <td>PIZZA REGULAR</td>\n",
              "      <td>MASSA FRESCA</td>\n",
              "      <td>MASSAS FRESCAS</td>\n",
              "    </tr>\n",
              "  </tbody>\n",
              "</table>\n",
              "</div>"
            ],
            "text/plain": [
              "                       DESCRIÇÃO PARCEIRO  ...            DEPARTAMENTO\n",
              "0  PASTA INT VITAPOWER 1,005KG AMEND/SHOT  ...          MERCEARIA DOCE\n",
              "1            ESPONJA BETTANIN BRILHUS C/1  ...  CUIDADOS COM A COZINHA\n",
              "2              AGUA MIN SCHIN S/GAS 500ML  ...  BEBIDAS NÃO ALCOÓLICAS\n",
              "3        FITA DUPLA FACE C/SUPORTE SCOTCH  ...               PAPELARIA\n",
              "4    MASSA PIZZA ROMANHA OREGANO PCT 160G  ...          MASSAS FRESCAS\n",
              "\n",
              "[5 rows x 4 columns]"
            ]
          },
          "metadata": {
            "tags": []
          },
          "execution_count": 52
        }
      ]
    },
    {
      "cell_type": "code",
      "metadata": {
        "id": "Ux02PWcTYM3T",
        "colab_type": "code",
        "colab": {
          "base_uri": "https://localhost:8080/",
          "height": 197
        },
        "outputId": "84e8a914-8927-4e06-e796-7fa3a157c049"
      },
      "source": [
        "## visuzalindo teste\n",
        "df_teste.head()"
      ],
      "execution_count": 53,
      "outputs": [
        {
          "output_type": "execute_result",
          "data": {
            "text/html": [
              "<div>\n",
              "<style scoped>\n",
              "    .dataframe tbody tr th:only-of-type {\n",
              "        vertical-align: middle;\n",
              "    }\n",
              "\n",
              "    .dataframe tbody tr th {\n",
              "        vertical-align: top;\n",
              "    }\n",
              "\n",
              "    .dataframe thead th {\n",
              "        text-align: right;\n",
              "    }\n",
              "</style>\n",
              "<table border=\"1\" class=\"dataframe\">\n",
              "  <thead>\n",
              "    <tr style=\"text-align: right;\">\n",
              "      <th></th>\n",
              "      <th>0</th>\n",
              "      <th>DESCRIÇÃO PARCEIRO</th>\n",
              "    </tr>\n",
              "  </thead>\n",
              "  <tbody>\n",
              "    <tr>\n",
              "      <th>0</th>\n",
              "      <td>1</td>\n",
              "      <td>SAL ROSA HIMALAIA C/ ALHO 500G</td>\n",
              "    </tr>\n",
              "    <tr>\n",
              "      <th>1</th>\n",
              "      <td>2</td>\n",
              "      <td>JG BOLA NATAL ACASA C/17 DR/PR/BC R952</td>\n",
              "    </tr>\n",
              "    <tr>\n",
              "      <th>2</th>\n",
              "      <td>3</td>\n",
              "      <td>MIST PREP LIQ CHA VDE LINEA 56ML-CX LIMAO</td>\n",
              "    </tr>\n",
              "    <tr>\n",
              "      <th>3</th>\n",
              "      <td>4</td>\n",
              "      <td>ALICATE CUT+ESPAT MUNDIAL SANDY AMARELO</td>\n",
              "    </tr>\n",
              "    <tr>\n",
              "      <th>4</th>\n",
              "      <td>5</td>\n",
              "      <td>MEIA PIZZA PEPPERONI UN</td>\n",
              "    </tr>\n",
              "  </tbody>\n",
              "</table>\n",
              "</div>"
            ],
            "text/plain": [
              "   0                         DESCRIÇÃO PARCEIRO\n",
              "0  1             SAL ROSA HIMALAIA C/ ALHO 500G\n",
              "1  2     JG BOLA NATAL ACASA C/17 DR/PR/BC R952\n",
              "2  3  MIST PREP LIQ CHA VDE LINEA 56ML-CX LIMAO\n",
              "3  4    ALICATE CUT+ESPAT MUNDIAL SANDY AMARELO\n",
              "4  5                    MEIA PIZZA PEPPERONI UN"
            ]
          },
          "metadata": {
            "tags": []
          },
          "execution_count": 53
        }
      ]
    },
    {
      "cell_type": "code",
      "metadata": {
        "id": "CAsebxhxZNDc",
        "colab_type": "code",
        "colab": {
          "base_uri": "https://localhost:8080/",
          "height": 197
        },
        "outputId": "0c527543-0a33-460f-a5f6-45c66a44cea3"
      },
      "source": [
        "## removendo coluna 0\n",
        "df_teste.drop(columns='0',inplace=True)\n",
        "df_teste.head()"
      ],
      "execution_count": 54,
      "outputs": [
        {
          "output_type": "execute_result",
          "data": {
            "text/html": [
              "<div>\n",
              "<style scoped>\n",
              "    .dataframe tbody tr th:only-of-type {\n",
              "        vertical-align: middle;\n",
              "    }\n",
              "\n",
              "    .dataframe tbody tr th {\n",
              "        vertical-align: top;\n",
              "    }\n",
              "\n",
              "    .dataframe thead th {\n",
              "        text-align: right;\n",
              "    }\n",
              "</style>\n",
              "<table border=\"1\" class=\"dataframe\">\n",
              "  <thead>\n",
              "    <tr style=\"text-align: right;\">\n",
              "      <th></th>\n",
              "      <th>DESCRIÇÃO PARCEIRO</th>\n",
              "    </tr>\n",
              "  </thead>\n",
              "  <tbody>\n",
              "    <tr>\n",
              "      <th>0</th>\n",
              "      <td>SAL ROSA HIMALAIA C/ ALHO 500G</td>\n",
              "    </tr>\n",
              "    <tr>\n",
              "      <th>1</th>\n",
              "      <td>JG BOLA NATAL ACASA C/17 DR/PR/BC R952</td>\n",
              "    </tr>\n",
              "    <tr>\n",
              "      <th>2</th>\n",
              "      <td>MIST PREP LIQ CHA VDE LINEA 56ML-CX LIMAO</td>\n",
              "    </tr>\n",
              "    <tr>\n",
              "      <th>3</th>\n",
              "      <td>ALICATE CUT+ESPAT MUNDIAL SANDY AMARELO</td>\n",
              "    </tr>\n",
              "    <tr>\n",
              "      <th>4</th>\n",
              "      <td>MEIA PIZZA PEPPERONI UN</td>\n",
              "    </tr>\n",
              "  </tbody>\n",
              "</table>\n",
              "</div>"
            ],
            "text/plain": [
              "                          DESCRIÇÃO PARCEIRO\n",
              "0             SAL ROSA HIMALAIA C/ ALHO 500G\n",
              "1     JG BOLA NATAL ACASA C/17 DR/PR/BC R952\n",
              "2  MIST PREP LIQ CHA VDE LINEA 56ML-CX LIMAO\n",
              "3    ALICATE CUT+ESPAT MUNDIAL SANDY AMARELO\n",
              "4                    MEIA PIZZA PEPPERONI UN"
            ]
          },
          "metadata": {
            "tags": []
          },
          "execution_count": 54
        }
      ]
    },
    {
      "cell_type": "code",
      "metadata": {
        "id": "9QhbHxm8Z1k-",
        "colab_type": "code",
        "colab": {
          "base_uri": "https://localhost:8080/",
          "height": 194
        },
        "outputId": "f91480eb-9e41-4439-ebcf-208703fcb23a"
      },
      "source": [
        "## verificando a existência de valores nulos nos datasets\n",
        "print('dataset treino\\n',df_treino.isna().sum())\n",
        "print('\\ndataset teste\\n',df_teste.isna().sum()) "
      ],
      "execution_count": 55,
      "outputs": [
        {
          "output_type": "stream",
          "text": [
            "dataset treino\n",
            " DESCRIÇÃO PARCEIRO    0\n",
            "SUB-CATEGORIA         0\n",
            "CATEGORIA             0\n",
            "DEPARTAMENTO          0\n",
            "dtype: int64\n",
            "\n",
            "dataset teste\n",
            " DESCRIÇÃO PARCEIRO    0\n",
            "dtype: int64\n"
          ],
          "name": "stdout"
        }
      ]
    },
    {
      "cell_type": "code",
      "metadata": {
        "id": "6YvLOyWNa6aK",
        "colab_type": "code",
        "colab": {
          "base_uri": "https://localhost:8080/",
          "height": 301
        },
        "outputId": "5b2eeda7-eb19-4f65-be4d-15921f0f4533"
      },
      "source": [
        "## verificando tamanho, nome das colunas e quantidade de valores unicos dos datasets\n",
        "print('- dataset treino -\\ntamanho: ',df_treino.shape,'\\nnome colunas:',df_treino.columns,'\\nvalores únicos:\\n',df_treino.nunique())\n",
        "print('\\n- dataset teste -\\ntamanho: ',df_teste.shape,'\\nnome colunas:',df_teste.columns,'\\nvalores únicos:\\n',df_teste.nunique())\n"
      ],
      "execution_count": 56,
      "outputs": [
        {
          "output_type": "stream",
          "text": [
            "- dataset treino -\n",
            "tamanho:  (22009, 4) \n",
            "nome colunas: Index(['DESCRIÇÃO PARCEIRO', 'SUB-CATEGORIA', 'CATEGORIA', 'DEPARTAMENTO'], dtype='object') \n",
            "valores únicos:\n",
            " DESCRIÇÃO PARCEIRO    22009\n",
            "SUB-CATEGORIA          1968\n",
            "CATEGORIA               332\n",
            "DEPARTAMENTO             53\n",
            "dtype: int64\n",
            "\n",
            "- dataset teste -\n",
            "tamanho:  (9433, 1) \n",
            "nome colunas: Index(['DESCRIÇÃO PARCEIRO'], dtype='object') \n",
            "valores únicos:\n",
            " DESCRIÇÃO PARCEIRO    9433\n",
            "dtype: int64\n"
          ],
          "name": "stdout"
        }
      ]
    },
    {
      "cell_type": "code",
      "metadata": {
        "id": "PZgVI-n3j7C7",
        "colab_type": "code",
        "colab": {}
      },
      "source": [
        "df_treino_x = df_treino['DESCRIÇÃO PARCEIRO']\n",
        "df_treino_y = df_treino['CATEGORIA']"
      ],
      "execution_count": 0,
      "outputs": []
    },
    {
      "cell_type": "code",
      "metadata": {
        "id": "N_MaFdQeuAQg",
        "colab_type": "code",
        "colab": {
          "base_uri": "https://localhost:8080/",
          "height": 34
        },
        "outputId": "c1022e7e-9c29-42f3-96b4-a7f36413b2f0"
      },
      "source": [
        "count_vect = CountVectorizer()\n",
        "X_train_counts = count_vect.fit_transform(df_treino_x)\n",
        "X_train_counts.shape"
      ],
      "execution_count": 58,
      "outputs": [
        {
          "output_type": "execute_result",
          "data": {
            "text/plain": [
              "(22009, 17120)"
            ]
          },
          "metadata": {
            "tags": []
          },
          "execution_count": 58
        }
      ]
    },
    {
      "cell_type": "code",
      "metadata": {
        "id": "DjLkWjfhuN_G",
        "colab_type": "code",
        "colab": {
          "base_uri": "https://localhost:8080/",
          "height": 34
        },
        "outputId": "d75b6dea-5547-4238-a279-43cf00b30117"
      },
      "source": [
        "from sklearn.feature_extraction.text import TfidfTransformer\n",
        "tfidf_transformer = TfidfTransformer()\n",
        "X_train_tfidf = tfidf_transformer.fit_transform(X_train_counts)\n",
        "X_train_tfidf.shape"
      ],
      "execution_count": 59,
      "outputs": [
        {
          "output_type": "execute_result",
          "data": {
            "text/plain": [
              "(22009, 17120)"
            ]
          },
          "metadata": {
            "tags": []
          },
          "execution_count": 59
        }
      ]
    },
    {
      "cell_type": "code",
      "metadata": {
        "id": "SzlsAH8zvA_W",
        "colab_type": "code",
        "colab": {}
      },
      "source": [
        "clf = MultinomialNB().fit(X_train_tfidf, df_treino['CATEGORIA'])"
      ],
      "execution_count": 0,
      "outputs": []
    },
    {
      "cell_type": "code",
      "metadata": {
        "id": "IuXsiQBLuwww",
        "colab_type": "code",
        "colab": {
          "base_uri": "https://localhost:8080/",
          "height": 34
        },
        "outputId": "23a14a44-cadb-4d6b-e391-fb93b6218f51"
      },
      "source": [
        "\n",
        "predicted =clf.predict(X_train_tfidf)\n",
        "np.mean(predicted == df_treino['CATEGORIA'])"
      ],
      "execution_count": 71,
      "outputs": [
        {
          "output_type": "execute_result",
          "data": {
            "text/plain": [
              "0.6456449634240538"
            ]
          },
          "metadata": {
            "tags": []
          },
          "execution_count": 71
        }
      ]
    },
    {
      "cell_type": "code",
      "metadata": {
        "id": "gKLZY0V6ixkg",
        "colab_type": "code",
        "colab": {}
      },
      "source": [
        "##dt = tree.DecisionTreeClassifier(criterion='entropy', random_state = 42)\n",
        "##dt.fit(df_treino_x,df_treino_y)"
      ],
      "execution_count": 0,
      "outputs": []
    }
  ]
}